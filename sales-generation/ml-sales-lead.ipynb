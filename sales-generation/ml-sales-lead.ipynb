{
 "cells": [
  {
   "cell_type": "markdown",
   "metadata": {
    "collapsed": true
   },
   "source": [
    "   # Problem Statement :"
   ]
  },
  {
   "cell_type": "markdown",
   "metadata": {},
   "source": [
    "Company  XYZ has a list of sales leads that potentially could develop into a business opportunity. \n",
    "To maximize the quality of these leads, XYZ is developing a lead management process, involving system and machine learning algorithms, eventually distributing leads to the sales team for closing. \n",
    "\n",
    "The initial contact lead information (including First Name, Last Name, Mailing Street, Mailing State, Mailing Zip, \n",
    "and Phone) have already been provided. \n",
    "Additional attributes such as “Phone to Name Match\" and \"Address to Name Match\" are generated from matching \n",
    "contacts against XYZ’s customer management system database. \n",
    "\n",
    "The Lead_Verifiy_Response file includes a sample  of contacts along with each contact’s corresponding attributes(features) and call outcome. Each record/row includes  the contact’s name, address, phone number, and the contact’s 10 features along with outcome.\n",
    "\n",
    "Input Features Set :\n",
    "\n",
    "1) Phone to Name Match , 2)Phone Is Valid <BR>\n",
    "3) Phone Line Type, 4)Phone Prepaid <BR>\n",
    "5)Phone Is Commercial,6)Address to Name Match<BR>\n",
    "7)Address Is Valid, 8)Address Type<BR>\n",
    "9)Address Is Active, 10)Address Is Commercial <BR>\n",
    "\n",
    "<BR>\n",
    "Outcome(Label) <BR>\n",
    "Call Disposition: ranges from 1 to 6\n"
   ]
  },
  {
   "cell_type": "markdown",
   "metadata": {},
   "source": [
    "# Objective of analysis:"
   ]
  },
  {
   "cell_type": "markdown",
   "metadata": {},
   "source": [
    "Objective of this analysis is to predict what feature/attribute or combinations will lead to the highest percentage of score 1."
   ]
  },
  {
   "cell_type": "markdown",
   "metadata": {},
   "source": [
    "# Steps taken in this analysis\n"
   ]
  },
  {
   "cell_type": "markdown",
   "metadata": {},
   "source": [
    "\n",
    "<BR>1) classify outcome (Call Disposition) as OneVsAll : Call Disposition outcome is encoded as either 1 or 0( 0 when Call Disposition values is not 1).\n",
    "<BR>2) compare different classification algo such as DecisionTree, Logistic, Random Forest and Neural network.\n",
    "<BR>3) Introspect the trained classification model to get estimates of feature importance.\n"
   ]
  },
  {
   "cell_type": "markdown",
   "metadata": {},
   "source": [
    "# Python package used :"
   ]
  },
  {
   "cell_type": "markdown",
   "metadata": {},
   "source": [
    "pandas, numpy, mathplotlib, graphviz, scikit-learn, Keras, Theano(For Deep Learning)"
   ]
  },
  {
   "cell_type": "markdown",
   "metadata": {},
   "source": [
    "# Preprocessing : "
   ]
  },
  {
   "cell_type": "markdown",
   "metadata": {},
   "source": [
    "Read input file and play with data to get intuition of data by generating descriptive stats."
   ]
  },
  {
   "cell_type": "code",
   "execution_count": 1,
   "metadata": {
    "collapsed": true
   },
   "outputs": [],
   "source": [
    "import numpy as np\n",
    "import pandas as pd\n",
    "from sklearn import tree"
   ]
  },
  {
   "cell_type": "code",
   "execution_count": 2,
   "metadata": {
    "collapsed": true
   },
   "outputs": [],
   "source": [
    "input_file = \"Lead_Verifiy_Response.csv\"\n",
    "df = pd.read_csv(input_file, header = 0)"
   ]
  },
  {
   "cell_type": "code",
   "execution_count": 3,
   "metadata": {
    "collapsed": true
   },
   "outputs": [],
   "source": [
    "#Delete input columns \n",
    "del df['ORDER']\n",
    "del df['First Name']\n",
    "del df['Last Name']\n",
    "del df['Mailing Street']\n",
    "del df['Mailing City']\n",
    "del df['Mailing Zip']\n",
    "del df['Mailing State']\n",
    "del df['Phone']"
   ]
  },
  {
   "cell_type": "code",
   "execution_count": 4,
   "metadata": {},
   "outputs": [
    {
     "data": {
      "text/html": [
       "<div>\n",
       "<style>\n",
       "    .dataframe thead tr:only-child th {\n",
       "        text-align: right;\n",
       "    }\n",
       "\n",
       "    .dataframe thead th {\n",
       "        text-align: left;\n",
       "    }\n",
       "\n",
       "    .dataframe tbody tr th {\n",
       "        vertical-align: top;\n",
       "    }\n",
       "</style>\n",
       "<table border=\"1\" class=\"dataframe\">\n",
       "  <thead>\n",
       "    <tr style=\"text-align: right;\">\n",
       "      <th></th>\n",
       "      <th>Phone to Name</th>\n",
       "      <th>Phone Is Valid</th>\n",
       "      <th>Phone Line Type</th>\n",
       "      <th>Phone Is Prepaid</th>\n",
       "      <th>Phone Is Commercial</th>\n",
       "      <th>Address to Name</th>\n",
       "      <th>Address Is Valid</th>\n",
       "      <th>Address Type</th>\n",
       "      <th>Address Is Active</th>\n",
       "      <th>Address Is Commercial</th>\n",
       "      <th>Call Disposition</th>\n",
       "    </tr>\n",
       "  </thead>\n",
       "  <tbody>\n",
       "    <tr>\n",
       "      <th>0</th>\n",
       "      <td>No match</td>\n",
       "      <td>True</td>\n",
       "      <td>Landline</td>\n",
       "      <td>False</td>\n",
       "      <td>True</td>\n",
       "      <td>No match</td>\n",
       "      <td>True</td>\n",
       "      <td>Multi unit</td>\n",
       "      <td>True</td>\n",
       "      <td>True</td>\n",
       "      <td>5</td>\n",
       "    </tr>\n",
       "    <tr>\n",
       "      <th>1</th>\n",
       "      <td>No match</td>\n",
       "      <td>True</td>\n",
       "      <td>Landline</td>\n",
       "      <td>False</td>\n",
       "      <td>False</td>\n",
       "      <td>No match</td>\n",
       "      <td>True</td>\n",
       "      <td>Multi unit</td>\n",
       "      <td>True</td>\n",
       "      <td>True</td>\n",
       "      <td>5</td>\n",
       "    </tr>\n",
       "    <tr>\n",
       "      <th>2</th>\n",
       "      <td>Match</td>\n",
       "      <td>True</td>\n",
       "      <td>Fixed VOIP</td>\n",
       "      <td>False</td>\n",
       "      <td>True</td>\n",
       "      <td>No match</td>\n",
       "      <td>True</td>\n",
       "      <td>Unknown address type</td>\n",
       "      <td>NaN</td>\n",
       "      <td>True</td>\n",
       "      <td>1</td>\n",
       "    </tr>\n",
       "    <tr>\n",
       "      <th>3</th>\n",
       "      <td>No match</td>\n",
       "      <td>True</td>\n",
       "      <td>Fixed VOIP</td>\n",
       "      <td>False</td>\n",
       "      <td>True</td>\n",
       "      <td>No match</td>\n",
       "      <td>True</td>\n",
       "      <td>Single unit</td>\n",
       "      <td>True</td>\n",
       "      <td>False</td>\n",
       "      <td>6</td>\n",
       "    </tr>\n",
       "    <tr>\n",
       "      <th>4</th>\n",
       "      <td>No match</td>\n",
       "      <td>True</td>\n",
       "      <td>Fixed VOIP</td>\n",
       "      <td>False</td>\n",
       "      <td>True</td>\n",
       "      <td>No match</td>\n",
       "      <td>True</td>\n",
       "      <td>Multi unit</td>\n",
       "      <td>True</td>\n",
       "      <td>True</td>\n",
       "      <td>6</td>\n",
       "    </tr>\n",
       "  </tbody>\n",
       "</table>\n",
       "</div>"
      ],
      "text/plain": [
       "  Phone to Name Phone Is Valid Phone Line Type Phone Is Prepaid  \\\n",
       "0      No match           True        Landline            False   \n",
       "1      No match           True        Landline            False   \n",
       "2         Match           True      Fixed VOIP            False   \n",
       "3      No match           True      Fixed VOIP            False   \n",
       "4      No match           True      Fixed VOIP            False   \n",
       "\n",
       "  Phone Is Commercial Address to Name Address Is Valid          Address Type  \\\n",
       "0                True        No match             True            Multi unit   \n",
       "1               False        No match             True            Multi unit   \n",
       "2                True        No match             True  Unknown address type   \n",
       "3                True        No match             True           Single unit   \n",
       "4                True        No match             True            Multi unit   \n",
       "\n",
       "  Address Is Active Address Is Commercial  Call Disposition  \n",
       "0              True                  True                 5  \n",
       "1              True                  True                 5  \n",
       "2               NaN                  True                 1  \n",
       "3              True                 False                 6  \n",
       "4              True                  True                 6  "
      ]
     },
     "execution_count": 4,
     "metadata": {},
     "output_type": "execute_result"
    }
   ],
   "source": [
    "df.head()"
   ]
  },
  {
   "cell_type": "code",
   "execution_count": 5,
   "metadata": {},
   "outputs": [
    {
     "data": {
      "text/plain": [
       "(10000, 11)"
      ]
     },
     "execution_count": 5,
     "metadata": {},
     "output_type": "execute_result"
    }
   ],
   "source": [
    "df.shape"
   ]
  },
  {
   "cell_type": "code",
   "execution_count": 6,
   "metadata": {},
   "outputs": [
    {
     "data": {
      "text/plain": [
       "Index([u'Phone to Name', u'Phone Is Valid', u'Phone Line Type',\n",
       "       u'Phone Is Prepaid', u'Phone Is Commercial', u'Address to Name',\n",
       "       u'Address Is Valid', u'Address Type', u'Address Is Active',\n",
       "       u'Address Is Commercial', u'Call Disposition'],\n",
       "      dtype='object')"
      ]
     },
     "execution_count": 6,
     "metadata": {},
     "output_type": "execute_result"
    }
   ],
   "source": [
    "df.columns"
   ]
  },
  {
   "cell_type": "code",
   "execution_count": 7,
   "metadata": {},
   "outputs": [
    {
     "name": "stdout",
     "output_type": "stream",
     "text": [
      "<class 'pandas.core.frame.DataFrame'>\n",
      "RangeIndex: 10000 entries, 0 to 9999\n",
      "Data columns (total 11 columns):\n",
      "Phone to Name            9963 non-null object\n",
      "Phone Is Valid           9999 non-null object\n",
      "Phone Line Type          9963 non-null object\n",
      "Phone Is Prepaid         8601 non-null object\n",
      "Phone Is Commercial      9663 non-null object\n",
      "Address to Name          9693 non-null object\n",
      "Address Is Valid         9989 non-null object\n",
      "Address Type             9693 non-null object\n",
      "Address Is Active        9497 non-null object\n",
      "Address Is Commercial    9323 non-null object\n",
      "Call Disposition         10000 non-null int64\n",
      "dtypes: int64(1), object(10)\n",
      "memory usage: 859.4+ KB\n"
     ]
    }
   ],
   "source": [
    "df.info()"
   ]
  },
  {
   "cell_type": "code",
   "execution_count": 8,
   "metadata": {},
   "outputs": [
    {
     "data": {
      "text/plain": [
       "2    2841\n",
       "6    2835\n",
       "1    2307\n",
       "5    1080\n",
       "3     832\n",
       "4     105\n",
       "Name: Call Disposition, dtype: int64"
      ]
     },
     "execution_count": 8,
     "metadata": {},
     "output_type": "execute_result"
    }
   ],
   "source": [
    "df[\"Call Disposition\"].value_counts()"
   ]
  },
  {
   "cell_type": "code",
   "execution_count": 9,
   "metadata": {
    "collapsed": true
   },
   "outputs": [],
   "source": [
    "#Encode \"Call Disposition\" column as 1 as 1 , 0 otherwise\n",
    "df.loc[df[\"Call Disposition\"] >1,\"Call Disposition\"] = 0"
   ]
  },
  {
   "cell_type": "code",
   "execution_count": 10,
   "metadata": {},
   "outputs": [
    {
     "data": {
      "text/plain": [
       "0    7693\n",
       "1    2307\n",
       "Name: Call Disposition, dtype: int64"
      ]
     },
     "execution_count": 10,
     "metadata": {},
     "output_type": "execute_result"
    }
   ],
   "source": [
    "#Get the value count of \"Call Disposition\" column\n",
    "df[\"Call Disposition\"].value_counts()"
   ]
  },
  {
   "cell_type": "markdown",
   "metadata": {},
   "source": [
    " # Print important stats for input features :"
   ]
  },
  {
   "cell_type": "code",
   "execution_count": 11,
   "metadata": {},
   "outputs": [
    {
     "name": "stdout",
     "output_type": "stream",
     "text": [
      "Phone to Name\n",
      "No match         5984\n",
      "Match            3679\n",
      "No name found     300\n",
      "NA                 37\n",
      "Name: Phone to Name, dtype: int64\n",
      "\n",
      "\n",
      "Phone Is Valid\n",
      "True     9963\n",
      "False      36\n",
      "NA          1\n",
      "Name: Phone Is Valid, dtype: int64\n",
      "\n",
      "\n",
      "Phone Line Type\n",
      "Landline          4232\n",
      "Fixed VOIP        3022\n",
      "Non-fixed VOIP    2170\n",
      "Mobile             498\n",
      "Tollfree            41\n",
      "NA                  37\n",
      "Name: Phone Line Type, dtype: int64\n",
      "\n",
      "\n",
      "Phone Is Prepaid\n",
      "False    8590\n",
      "NA       1399\n",
      "True       11\n",
      "Name: Phone Is Prepaid, dtype: int64\n",
      "\n",
      "\n",
      "Phone Is Commercial\n",
      "True     8138\n",
      "False    1525\n",
      "NA        337\n",
      "Name: Phone Is Commercial, dtype: int64\n",
      "\n",
      "\n",
      "Address to Name\n",
      "No match         5663\n",
      "Match            3662\n",
      "No name found     368\n",
      "NA                307\n",
      "Name: Address to Name, dtype: int64\n",
      "\n",
      "\n",
      "Address Is Valid\n",
      "True     9857\n",
      "False     132\n",
      "NA         11\n",
      "Name: Address Is Valid, dtype: int64\n",
      "\n",
      "\n",
      "Address Type\n",
      "Single unit             5029\n",
      "Multi unit              3777\n",
      "PO box                   488\n",
      "NA                       307\n",
      "Unknown address type     231\n",
      "PO box throwback          98\n",
      "Commercial mail drop      70\n",
      "Name: Address Type, dtype: int64\n",
      "\n",
      "\n",
      "Address Is Active\n",
      "True     9347\n",
      "NA        503\n",
      "False     150\n",
      "Name: Address Is Active, dtype: int64\n",
      "\n",
      "\n",
      "Address Is Commercial\n",
      "True     7802\n",
      "False    1521\n",
      "NA        677\n",
      "Name: Address Is Commercial, dtype: int64\n",
      "\n",
      "\n"
     ]
    }
   ],
   "source": [
    "for columns in list(df.columns[0:-1]):\n",
    "    print columns\n",
    "    df.loc[pd.isnull(df[columns]),columns] = 'NA'\n",
    "    print (df[columns].value_counts())\n",
    "    print('\\n')"
   ]
  },
  {
   "cell_type": "markdown",
   "metadata": {},
   "source": [
    "# Algorithm Analysis:"
   ]
  },
  {
   "cell_type": "code",
   "execution_count": 12,
   "metadata": {},
   "outputs": [
    {
     "data": {
      "text/plain": [
       "['Phone to Name',\n",
       " 'Phone Is Valid',\n",
       " 'Phone Line Type',\n",
       " 'Phone Is Prepaid',\n",
       " 'Phone Is Commercial',\n",
       " 'Address to Name',\n",
       " 'Address Is Valid',\n",
       " 'Address Type',\n",
       " 'Address Is Active',\n",
       " 'Address Is Commercial']"
      ]
     },
     "execution_count": 12,
     "metadata": {},
     "output_type": "execute_result"
    }
   ],
   "source": [
    "features = list(df.columns[0:-1])\n",
    "features"
   ]
  },
  {
   "cell_type": "code",
   "execution_count": 13,
   "metadata": {
    "collapsed": true
   },
   "outputs": [],
   "source": [
    "from sklearn.preprocessing import LabelEncoder"
   ]
  },
  {
   "cell_type": "markdown",
   "metadata": {},
   "source": [
    "        Following class will encode all the input features as they are all categorical."
   ]
  },
  {
   "cell_type": "code",
   "execution_count": 14,
   "metadata": {
    "collapsed": true
   },
   "outputs": [],
   "source": [
    "class MultiColumnLabelEncoder:\n",
    "    def __init__(self,columns = None):\n",
    "        self.columns = columns # array of column names to encode\n",
    "\n",
    "    def fit(self,X,y=None):\n",
    "        return self # not relevant here\n",
    "\n",
    "    def transform(self,X):\n",
    "        '''\n",
    "        Transforms columns of X specified in self.columns using\n",
    "        LabelEncoder(). If no columns specified, transforms all\n",
    "        columns in X.\n",
    "        '''\n",
    "        output = X.copy()\n",
    "        if self.columns is not None:\n",
    "            for col in self.columns:\n",
    "                output[col] = LabelEncoder().fit_transform(output[col])\n",
    "        else:\n",
    "            for colname,col in output.iteritems():\n",
    "                output[colname] = LabelEncoder().fit_transform(col)\n",
    "        return output\n",
    "\n",
    "    def fit_transform(self,X,y=None):\n",
    "        return self.fit(X,y).transform(X)"
   ]
  },
  {
   "cell_type": "code",
   "execution_count": 15,
   "metadata": {
    "collapsed": true
   },
   "outputs": [],
   "source": [
    "# Transform input features\n",
    "df_new = MultiColumnLabelEncoder(columns = features).fit_transform(df)"
   ]
  },
  {
   "cell_type": "code",
   "execution_count": 16,
   "metadata": {
    "collapsed": true
   },
   "outputs": [],
   "source": [
    "# split data set into 80% 20% train test split. \n",
    "from sklearn.model_selection import train_test_split\n",
    "\n",
    "train, test = train_test_split(df_new, test_size = 0.2)"
   ]
  },
  {
   "cell_type": "code",
   "execution_count": 17,
   "metadata": {
    "collapsed": true
   },
   "outputs": [],
   "source": [
    "y_train = train[\"Call Disposition\"]\n",
    "X_train = train[features]"
   ]
  },
  {
   "cell_type": "markdown",
   "metadata": {},
   "source": [
    "   #        Algo : Decision Tree Classifier using entropy (information gain) criterion"
   ]
  },
  {
   "cell_type": "code",
   "execution_count": 18,
   "metadata": {
    "collapsed": true
   },
   "outputs": [],
   "source": [
    "clf = tree.DecisionTreeClassifier(criterion='entropy',max_depth=4,min_samples_split=100)"
   ]
  },
  {
   "cell_type": "code",
   "execution_count": 19,
   "metadata": {
    "collapsed": true
   },
   "outputs": [],
   "source": [
    "clf = clf.fit(X_train,y_train)"
   ]
  },
  {
   "cell_type": "code",
   "execution_count": 20,
   "metadata": {
    "collapsed": true
   },
   "outputs": [],
   "source": [
    "from IPython.display import Image  \n",
    "from sklearn.externals.six import StringIO  \n",
    "import pydot_ng as pydot"
   ]
  },
  {
   "cell_type": "code",
   "execution_count": 21,
   "metadata": {
    "collapsed": true
   },
   "outputs": [],
   "source": [
    "dot_data = StringIO()  \n",
    "tree.export_graphviz(clf, out_file=dot_data,  \n",
    "                         feature_names=features)  \n",
    "graph = pydot.graph_from_dot_data(dot_data.getvalue()) "
   ]
  },
  {
   "cell_type": "markdown",
   "metadata": {},
   "source": [
    " #                               Image showing Decision Tree"
   ]
  },
  {
   "cell_type": "code",
   "execution_count": 22,
   "metadata": {},
   "outputs": [
    {
     "data": {
      "image/png": "[encoded data removed]",
      "text/plain": [
       "<IPython.core.display.Image object>"
      ]
     },
     "execution_count": 22,
     "metadata": {},
     "output_type": "execute_result"
    }
   ],
   "source": [
    "Image(graph.create_png()) "
   ]
  },
  {
   "cell_type": "code",
   "execution_count": 23,
   "metadata": {
    "collapsed": true
   },
   "outputs": [],
   "source": [
    "y_test = test[\"Call Disposition\"]\n",
    "X_test = test[features]\n",
    "pred = clf.predict(X_test)"
   ]
  },
  {
   "cell_type": "code",
   "execution_count": 24,
   "metadata": {},
   "outputs": [
    {
     "name": "stdout",
     "output_type": "stream",
     "text": [
      "Accuracy of decision tree 0.7735\n"
     ]
    }
   ],
   "source": [
    "\n",
    "from sklearn.metrics import accuracy_score\n",
    "\n",
    "print 'Accuracy of decision tree',accuracy_score(y_test, pred)"
   ]
  },
  {
   "cell_type": "markdown",
   "metadata": {},
   "source": [
    "  # Receiver Operating Characteristic : curve analysis"
   ]
  },
  {
   "cell_type": "code",
   "execution_count": 25,
   "metadata": {},
   "outputs": [
    {
     "data": {
      "image/png": "[encoded data removed]",
      "text/plain": [
       "<matplotlib.figure.Figure at 0x10ba2a250>"
      ]
     },
     "metadata": {},
     "output_type": "display_data"
    }
   ],
   "source": [
    "from sklearn import metrics\n",
    "fpr, tpr, threshold = metrics.roc_curve(y_test, pred)\n",
    "roc_auc = metrics.auc(fpr, tpr)\n",
    "import matplotlib.pyplot as plt\n",
    "plt.title('Receiver Operating Characteristic')\n",
    "plt.plot(fpr, tpr, 'b', label = 'AUC = %0.2f' % roc_auc)\n",
    "plt.legend(loc = 'lower right')\n",
    "plt.plot([0, 1], [0, 1],'r--')\n",
    "plt.xlim([0, 1])\n",
    "plt.ylim([0, 1])\n",
    "plt.ylabel('True Positive Rate')\n",
    "plt.xlabel('False Positive Rate')\n",
    "plt.show()"
   ]
  },
  {
   "cell_type": "markdown",
   "metadata": {},
   "source": [
    " # Decision Tree using Grid serach"
   ]
  },
  {
   "cell_type": "code",
   "execution_count": 26,
   "metadata": {},
   "outputs": [
    {
     "name": "stdout",
     "output_type": "stream",
     "text": [
      "0.775280898876\n",
      "0.77625\n",
      "0.7675\n",
      "0.7825\n",
      "0.77375\n",
      "0.7675\n",
      "0.79\n",
      "0.78375\n",
      "0.78\n",
      "0.780976220275\n",
      "CV accuracy: 0.778 +/- 0.007\n"
     ]
    }
   ],
   "source": [
    "from sklearn.model_selection import GridSearchCV\n",
    "from sklearn.model_selection import cross_val_score\n",
    "\n",
    "gs = GridSearchCV(\n",
    "        estimator=tree.DecisionTreeClassifier(random_state=0),\n",
    "        param_grid=[\n",
    "        {'max_depth': [1, 2, 3, 4, 5, 6, 7, None]}],\n",
    "        scoring='accuracy',\n",
    "        cv=5)\n",
    "scores = cross_val_score(gs,\n",
    "            X_train,\n",
    "            y_train,\n",
    "            scoring='accuracy',\n",
    "            cv=10)\n",
    "for score in scores:\n",
    "    print score\n",
    "    \n",
    "print('CV accuracy: %.3f +/- %.3f' % (\n",
    "        np.mean(scores), np.std(scores)))"
   ]
  },
  {
   "cell_type": "markdown",
   "metadata": {},
   "source": [
    "# Ensemble : Random Forest"
   ]
  },
  {
   "cell_type": "code",
   "execution_count": 27,
   "metadata": {
    "collapsed": true
   },
   "outputs": [],
   "source": [
    "train_rf, test_rf = train_test_split(df_new, test_size = 0.2)\n",
    "\n",
    "y_train_rf = train_rf[\"Call Disposition\"]\n",
    "X_train_rf = train_rf[features]\n",
    "\n",
    "y_test_rf = test_rf[\"Call Disposition\"]\n",
    "X_test_rf = test_rf[features]"
   ]
  },
  {
   "cell_type": "code",
   "execution_count": 28,
   "metadata": {
    "collapsed": true
   },
   "outputs": [],
   "source": [
    "from sklearn.ensemble import RandomForestClassifier\n",
    "\n",
    "clf = RandomForestClassifier(n_estimators=100)\n",
    "clf = clf.fit(X_train_rf, y_train_rf)"
   ]
  },
  {
   "cell_type": "code",
   "execution_count": 29,
   "metadata": {},
   "outputs": [
    {
     "name": "stdout",
     "output_type": "stream",
     "text": [
      "Accuracy of Random forest 0.771\n"
     ]
    }
   ],
   "source": [
    "pred_rf = clf.predict(X_test_rf)\n",
    "from sklearn.metrics import accuracy_score\n",
    "\n",
    "print 'Accuracy of Random forest',accuracy_score(y_test_rf, pred_rf)"
   ]
  },
  {
   "cell_type": "code",
   "execution_count": 30,
   "metadata": {},
   "outputs": [
    {
     "data": {
      "image/png": "[encoded data removed]",
      "text/plain": [
       "<matplotlib.figure.Figure at 0x10c8b9bd0>"
      ]
     },
     "metadata": {},
     "output_type": "display_data"
    }
   ],
   "source": [
    "fpr, tpr, threshold = metrics.roc_curve(y_test_rf, pred_rf)\n",
    "roc_auc = metrics.auc(fpr, tpr)\n",
    "import matplotlib.pyplot as plt\n",
    "plt.title('Receiver Operating Characteristic')\n",
    "plt.plot(fpr, tpr, 'b', label = 'AUC = %0.2f' % roc_auc)\n",
    "plt.legend(loc = 'lower right')\n",
    "plt.plot([0, 1], [0, 1],'r--')\n",
    "plt.xlim([0, 1])\n",
    "plt.ylim([0, 1])\n",
    "plt.ylabel('True Positive Rate')\n",
    "plt.xlabel('False Positive Rate')\n",
    "plt.show()"
   ]
  },
  {
   "cell_type": "code",
   "execution_count": 31,
   "metadata": {},
   "outputs": [
    {
     "name": "stdout",
     "output_type": "stream",
     "text": [
      "[[1492   50]\n",
      " [ 408   50]]\n"
     ]
    }
   ],
   "source": [
    "## confusion metrix\n",
    "\n",
    "from sklearn.metrics import confusion_matrix\n",
    "confmat = confusion_matrix(y_true=y_test_rf, y_pred=pred_rf)\n",
    "print(confmat)"
   ]
  },
  {
   "cell_type": "markdown",
   "metadata": {},
   "source": [
    "# Confusion Matrix :"
   ]
  },
  {
   "cell_type": "code",
   "execution_count": 32,
   "metadata": {},
   "outputs": [
    {
     "data": {
      "image/png": "[encoded data removed]",
      "text/plain": [
       "<matplotlib.figure.Figure at 0x10c8c8e10>"
      ]
     },
     "metadata": {},
     "output_type": "display_data"
    }
   ],
   "source": [
    "import matplotlib.pyplot as plt\n",
    "fig, ax = plt.subplots(figsize=(2.5, 2.5))\n",
    "ax.matshow(confmat, cmap=plt.cm.Blues, alpha=0.3)\n",
    "for i in range(confmat.shape[0]):\n",
    "    for j in range(confmat.shape[1]):\n",
    "        ax.text(x=j, y=i,\n",
    "                s=confmat[i, j],\n",
    "                va='center', ha='center')\n",
    "plt.xlabel('predicted label')\n",
    "plt.ylabel('true label')\n",
    "plt.show()"
   ]
  },
  {
   "cell_type": "markdown",
   "metadata": {},
   "source": [
    "# Feature Importance plot in Random Forest :"
   ]
  },
  {
   "cell_type": "code",
   "execution_count": 33,
   "metadata": {},
   "outputs": [
    {
     "data": {
      "text/plain": [
       "array([ 0.17614086,  0.00354559,  0.20375131,  0.06880765,  0.09499192,\n",
       "        0.09284518,  0.05144436,  0.17192927,  0.05341242,  0.08313145])"
      ]
     },
     "execution_count": 33,
     "metadata": {},
     "output_type": "execute_result"
    }
   ],
   "source": [
    "#Extract the features that contributes the most in classification of call disposition \n",
    "clf.feature_importances_"
   ]
  },
  {
   "cell_type": "code",
   "execution_count": 34,
   "metadata": {},
   "outputs": [
    {
     "data": {
      "image/png": "[encoded data removed]",
      "text/plain": [
       "<matplotlib.figure.Figure at 0x1a162b1050>"
      ]
     },
     "metadata": {},
     "output_type": "display_data"
    }
   ],
   "source": [
    "\n",
    "feature_imp =  clf.feature_importances_\n",
    "N = len(feature_imp)\n",
    "\n",
    "\n",
    "\n",
    "ind = np.arange(N)  # the x locations for the groups\n",
    "width =  1/1.5      # the width of the bars\n",
    "\n",
    "fig, ax = plt.subplots()\n",
    "rects1 = ax.bar(ind, feature_imp, width, color='r')\n",
    "\n",
    "fig.set_size_inches(18.5, 10.5)\n",
    "\n",
    "# add some text for labels, title and axes ticks\n",
    "ax.set_ylabel('Feature importance score')\n",
    "ax.set_title('Feature importance')\n",
    "ax.set_xticks(ind + width / 2)\n",
    "\n",
    "ax.set_xticklabels( features)\n",
    "\n",
    "\n",
    "\n",
    "plt.show()"
   ]
  },
  {
   "cell_type": "code",
   "execution_count": 35,
   "metadata": {},
   "outputs": [
    {
     "data": {
      "text/html": [
       "<div>\n",
       "<style>\n",
       "    .dataframe thead tr:only-child th {\n",
       "        text-align: right;\n",
       "    }\n",
       "\n",
       "    .dataframe thead th {\n",
       "        text-align: left;\n",
       "    }\n",
       "\n",
       "    .dataframe tbody tr th {\n",
       "        vertical-align: top;\n",
       "    }\n",
       "</style>\n",
       "<table border=\"1\" class=\"dataframe\">\n",
       "  <thead>\n",
       "    <tr style=\"text-align: right;\">\n",
       "      <th></th>\n",
       "      <th>Phone to Name</th>\n",
       "      <th>Phone Is Valid</th>\n",
       "      <th>Phone Line Type</th>\n",
       "      <th>Phone Is Prepaid</th>\n",
       "      <th>Phone Is Commercial</th>\n",
       "      <th>Address to Name</th>\n",
       "      <th>Address Is Valid</th>\n",
       "      <th>Address Type</th>\n",
       "      <th>Address Is Active</th>\n",
       "      <th>Address Is Commercial</th>\n",
       "      <th>Call Disposition</th>\n",
       "    </tr>\n",
       "  </thead>\n",
       "  <tbody>\n",
       "    <tr>\n",
       "      <th>0</th>\n",
       "      <td>No match</td>\n",
       "      <td>True</td>\n",
       "      <td>Landline</td>\n",
       "      <td>False</td>\n",
       "      <td>True</td>\n",
       "      <td>No match</td>\n",
       "      <td>True</td>\n",
       "      <td>Multi unit</td>\n",
       "      <td>True</td>\n",
       "      <td>True</td>\n",
       "      <td>0</td>\n",
       "    </tr>\n",
       "    <tr>\n",
       "      <th>1</th>\n",
       "      <td>No match</td>\n",
       "      <td>True</td>\n",
       "      <td>Landline</td>\n",
       "      <td>False</td>\n",
       "      <td>False</td>\n",
       "      <td>No match</td>\n",
       "      <td>True</td>\n",
       "      <td>Multi unit</td>\n",
       "      <td>True</td>\n",
       "      <td>True</td>\n",
       "      <td>0</td>\n",
       "    </tr>\n",
       "    <tr>\n",
       "      <th>2</th>\n",
       "      <td>Match</td>\n",
       "      <td>True</td>\n",
       "      <td>Fixed VOIP</td>\n",
       "      <td>False</td>\n",
       "      <td>True</td>\n",
       "      <td>No match</td>\n",
       "      <td>True</td>\n",
       "      <td>Unknown address type</td>\n",
       "      <td>NA</td>\n",
       "      <td>True</td>\n",
       "      <td>1</td>\n",
       "    </tr>\n",
       "    <tr>\n",
       "      <th>3</th>\n",
       "      <td>No match</td>\n",
       "      <td>True</td>\n",
       "      <td>Fixed VOIP</td>\n",
       "      <td>False</td>\n",
       "      <td>True</td>\n",
       "      <td>No match</td>\n",
       "      <td>True</td>\n",
       "      <td>Single unit</td>\n",
       "      <td>True</td>\n",
       "      <td>False</td>\n",
       "      <td>0</td>\n",
       "    </tr>\n",
       "    <tr>\n",
       "      <th>4</th>\n",
       "      <td>No match</td>\n",
       "      <td>True</td>\n",
       "      <td>Fixed VOIP</td>\n",
       "      <td>False</td>\n",
       "      <td>True</td>\n",
       "      <td>No match</td>\n",
       "      <td>True</td>\n",
       "      <td>Multi unit</td>\n",
       "      <td>True</td>\n",
       "      <td>True</td>\n",
       "      <td>0</td>\n",
       "    </tr>\n",
       "  </tbody>\n",
       "</table>\n",
       "</div>"
      ],
      "text/plain": [
       "  Phone to Name Phone Is Valid Phone Line Type Phone Is Prepaid  \\\n",
       "0      No match           True        Landline            False   \n",
       "1      No match           True        Landline            False   \n",
       "2         Match           True      Fixed VOIP            False   \n",
       "3      No match           True      Fixed VOIP            False   \n",
       "4      No match           True      Fixed VOIP            False   \n",
       "\n",
       "  Phone Is Commercial Address to Name Address Is Valid          Address Type  \\\n",
       "0                True        No match             True            Multi unit   \n",
       "1               False        No match             True            Multi unit   \n",
       "2                True        No match             True  Unknown address type   \n",
       "3                True        No match             True           Single unit   \n",
       "4                True        No match             True            Multi unit   \n",
       "\n",
       "  Address Is Active Address Is Commercial  Call Disposition  \n",
       "0              True                  True                 0  \n",
       "1              True                  True                 0  \n",
       "2                NA                  True                 1  \n",
       "3              True                 False                 0  \n",
       "4              True                  True                 0  "
      ]
     },
     "execution_count": 35,
     "metadata": {},
     "output_type": "execute_result"
    }
   ],
   "source": [
    "df.head()"
   ]
  },
  {
   "cell_type": "code",
   "execution_count": 36,
   "metadata": {},
   "outputs": [
    {
     "data": {
      "text/html": [
       "<div>\n",
       "<style>\n",
       "    .dataframe thead tr:only-child th {\n",
       "        text-align: right;\n",
       "    }\n",
       "\n",
       "    .dataframe thead th {\n",
       "        text-align: left;\n",
       "    }\n",
       "\n",
       "    .dataframe tbody tr th {\n",
       "        vertical-align: top;\n",
       "    }\n",
       "</style>\n",
       "<table border=\"1\" class=\"dataframe\">\n",
       "  <thead>\n",
       "    <tr style=\"text-align: right;\">\n",
       "      <th></th>\n",
       "      <th>Phone to Name</th>\n",
       "      <th>Phone Is Valid</th>\n",
       "      <th>Phone Line Type</th>\n",
       "      <th>Phone Is Prepaid</th>\n",
       "      <th>Phone Is Commercial</th>\n",
       "      <th>Address to Name</th>\n",
       "      <th>Address Is Valid</th>\n",
       "      <th>Address Type</th>\n",
       "      <th>Address Is Active</th>\n",
       "      <th>Address Is Commercial</th>\n",
       "    </tr>\n",
       "  </thead>\n",
       "  <tbody>\n",
       "    <tr>\n",
       "      <th>0</th>\n",
       "      <td>No match</td>\n",
       "      <td>True</td>\n",
       "      <td>Landline</td>\n",
       "      <td>False</td>\n",
       "      <td>True</td>\n",
       "      <td>No match</td>\n",
       "      <td>True</td>\n",
       "      <td>Multi unit</td>\n",
       "      <td>True</td>\n",
       "      <td>True</td>\n",
       "    </tr>\n",
       "    <tr>\n",
       "      <th>1</th>\n",
       "      <td>No match</td>\n",
       "      <td>True</td>\n",
       "      <td>Landline</td>\n",
       "      <td>False</td>\n",
       "      <td>False</td>\n",
       "      <td>No match</td>\n",
       "      <td>True</td>\n",
       "      <td>Multi unit</td>\n",
       "      <td>True</td>\n",
       "      <td>True</td>\n",
       "    </tr>\n",
       "    <tr>\n",
       "      <th>2</th>\n",
       "      <td>Match</td>\n",
       "      <td>True</td>\n",
       "      <td>Fixed VOIP</td>\n",
       "      <td>False</td>\n",
       "      <td>True</td>\n",
       "      <td>No match</td>\n",
       "      <td>True</td>\n",
       "      <td>Unknown address type</td>\n",
       "      <td>NA</td>\n",
       "      <td>True</td>\n",
       "    </tr>\n",
       "    <tr>\n",
       "      <th>3</th>\n",
       "      <td>No match</td>\n",
       "      <td>True</td>\n",
       "      <td>Fixed VOIP</td>\n",
       "      <td>False</td>\n",
       "      <td>True</td>\n",
       "      <td>No match</td>\n",
       "      <td>True</td>\n",
       "      <td>Single unit</td>\n",
       "      <td>True</td>\n",
       "      <td>False</td>\n",
       "    </tr>\n",
       "    <tr>\n",
       "      <th>4</th>\n",
       "      <td>No match</td>\n",
       "      <td>True</td>\n",
       "      <td>Fixed VOIP</td>\n",
       "      <td>False</td>\n",
       "      <td>True</td>\n",
       "      <td>No match</td>\n",
       "      <td>True</td>\n",
       "      <td>Multi unit</td>\n",
       "      <td>True</td>\n",
       "      <td>True</td>\n",
       "    </tr>\n",
       "  </tbody>\n",
       "</table>\n",
       "</div>"
      ],
      "text/plain": [
       "  Phone to Name Phone Is Valid Phone Line Type Phone Is Prepaid  \\\n",
       "0      No match           True        Landline            False   \n",
       "1      No match           True        Landline            False   \n",
       "2         Match           True      Fixed VOIP            False   \n",
       "3      No match           True      Fixed VOIP            False   \n",
       "4      No match           True      Fixed VOIP            False   \n",
       "\n",
       "  Phone Is Commercial Address to Name Address Is Valid          Address Type  \\\n",
       "0                True        No match             True            Multi unit   \n",
       "1               False        No match             True            Multi unit   \n",
       "2                True        No match             True  Unknown address type   \n",
       "3                True        No match             True           Single unit   \n",
       "4                True        No match             True            Multi unit   \n",
       "\n",
       "  Address Is Active Address Is Commercial  \n",
       "0              True                  True  \n",
       "1              True                  True  \n",
       "2                NA                  True  \n",
       "3              True                 False  \n",
       "4              True                  True  "
      ]
     },
     "execution_count": 36,
     "metadata": {},
     "output_type": "execute_result"
    }
   ],
   "source": [
    "df[features].head()"
   ]
  },
  {
   "cell_type": "markdown",
   "metadata": {},
   "source": [
    "# Logistic classifier:"
   ]
  },
  {
   "cell_type": "code",
   "execution_count": 37,
   "metadata": {
    "collapsed": true
   },
   "outputs": [],
   "source": [
    "df_new1 = df"
   ]
  },
  {
   "cell_type": "code",
   "execution_count": 38,
   "metadata": {
    "collapsed": true
   },
   "outputs": [],
   "source": [
    "df_new1  = pd.get_dummies(df_new1[features])"
   ]
  },
  {
   "cell_type": "code",
   "execution_count": 39,
   "metadata": {
    "collapsed": true
   },
   "outputs": [],
   "source": [
    "df_new1[\"Call Disposition\"] = df[\"Call Disposition\"]"
   ]
  },
  {
   "cell_type": "code",
   "execution_count": 40,
   "metadata": {},
   "outputs": [
    {
     "data": {
      "text/html": [
       "<div>\n",
       "<style>\n",
       "    .dataframe thead tr:only-child th {\n",
       "        text-align: right;\n",
       "    }\n",
       "\n",
       "    .dataframe thead th {\n",
       "        text-align: left;\n",
       "    }\n",
       "\n",
       "    .dataframe tbody tr th {\n",
       "        vertical-align: top;\n",
       "    }\n",
       "</style>\n",
       "<table border=\"1\" class=\"dataframe\">\n",
       "  <thead>\n",
       "    <tr style=\"text-align: right;\">\n",
       "      <th></th>\n",
       "      <th>Phone to Name_Match</th>\n",
       "      <th>Phone to Name_NA</th>\n",
       "      <th>Phone to Name_No match</th>\n",
       "      <th>Phone to Name_No name found</th>\n",
       "      <th>Phone Is Valid_False</th>\n",
       "      <th>Phone Is Valid_True</th>\n",
       "      <th>Phone Is Valid_NA</th>\n",
       "      <th>Phone Line Type_Fixed VOIP</th>\n",
       "      <th>Phone Line Type_Landline</th>\n",
       "      <th>Phone Line Type_Mobile</th>\n",
       "      <th>...</th>\n",
       "      <th>Address Type_PO box throwback</th>\n",
       "      <th>Address Type_Single unit</th>\n",
       "      <th>Address Type_Unknown address type</th>\n",
       "      <th>Address Is Active_False</th>\n",
       "      <th>Address Is Active_True</th>\n",
       "      <th>Address Is Active_NA</th>\n",
       "      <th>Address Is Commercial_False</th>\n",
       "      <th>Address Is Commercial_True</th>\n",
       "      <th>Address Is Commercial_NA</th>\n",
       "      <th>Call Disposition</th>\n",
       "    </tr>\n",
       "  </thead>\n",
       "  <tbody>\n",
       "    <tr>\n",
       "      <th>0</th>\n",
       "      <td>0</td>\n",
       "      <td>0</td>\n",
       "      <td>1</td>\n",
       "      <td>0</td>\n",
       "      <td>0</td>\n",
       "      <td>1</td>\n",
       "      <td>0</td>\n",
       "      <td>0</td>\n",
       "      <td>1</td>\n",
       "      <td>0</td>\n",
       "      <td>...</td>\n",
       "      <td>0</td>\n",
       "      <td>0</td>\n",
       "      <td>0</td>\n",
       "      <td>0</td>\n",
       "      <td>1</td>\n",
       "      <td>0</td>\n",
       "      <td>0</td>\n",
       "      <td>1</td>\n",
       "      <td>0</td>\n",
       "      <td>0</td>\n",
       "    </tr>\n",
       "    <tr>\n",
       "      <th>1</th>\n",
       "      <td>0</td>\n",
       "      <td>0</td>\n",
       "      <td>1</td>\n",
       "      <td>0</td>\n",
       "      <td>0</td>\n",
       "      <td>1</td>\n",
       "      <td>0</td>\n",
       "      <td>0</td>\n",
       "      <td>1</td>\n",
       "      <td>0</td>\n",
       "      <td>...</td>\n",
       "      <td>0</td>\n",
       "      <td>0</td>\n",
       "      <td>0</td>\n",
       "      <td>0</td>\n",
       "      <td>1</td>\n",
       "      <td>0</td>\n",
       "      <td>0</td>\n",
       "      <td>1</td>\n",
       "      <td>0</td>\n",
       "      <td>0</td>\n",
       "    </tr>\n",
       "    <tr>\n",
       "      <th>2</th>\n",
       "      <td>1</td>\n",
       "      <td>0</td>\n",
       "      <td>0</td>\n",
       "      <td>0</td>\n",
       "      <td>0</td>\n",
       "      <td>1</td>\n",
       "      <td>0</td>\n",
       "      <td>1</td>\n",
       "      <td>0</td>\n",
       "      <td>0</td>\n",
       "      <td>...</td>\n",
       "      <td>0</td>\n",
       "      <td>0</td>\n",
       "      <td>1</td>\n",
       "      <td>0</td>\n",
       "      <td>0</td>\n",
       "      <td>1</td>\n",
       "      <td>0</td>\n",
       "      <td>1</td>\n",
       "      <td>0</td>\n",
       "      <td>1</td>\n",
       "    </tr>\n",
       "    <tr>\n",
       "      <th>3</th>\n",
       "      <td>0</td>\n",
       "      <td>0</td>\n",
       "      <td>1</td>\n",
       "      <td>0</td>\n",
       "      <td>0</td>\n",
       "      <td>1</td>\n",
       "      <td>0</td>\n",
       "      <td>1</td>\n",
       "      <td>0</td>\n",
       "      <td>0</td>\n",
       "      <td>...</td>\n",
       "      <td>0</td>\n",
       "      <td>1</td>\n",
       "      <td>0</td>\n",
       "      <td>0</td>\n",
       "      <td>1</td>\n",
       "      <td>0</td>\n",
       "      <td>1</td>\n",
       "      <td>0</td>\n",
       "      <td>0</td>\n",
       "      <td>0</td>\n",
       "    </tr>\n",
       "    <tr>\n",
       "      <th>4</th>\n",
       "      <td>0</td>\n",
       "      <td>0</td>\n",
       "      <td>1</td>\n",
       "      <td>0</td>\n",
       "      <td>0</td>\n",
       "      <td>1</td>\n",
       "      <td>0</td>\n",
       "      <td>1</td>\n",
       "      <td>0</td>\n",
       "      <td>0</td>\n",
       "      <td>...</td>\n",
       "      <td>0</td>\n",
       "      <td>0</td>\n",
       "      <td>0</td>\n",
       "      <td>0</td>\n",
       "      <td>1</td>\n",
       "      <td>0</td>\n",
       "      <td>0</td>\n",
       "      <td>1</td>\n",
       "      <td>0</td>\n",
       "      <td>0</td>\n",
       "    </tr>\n",
       "  </tbody>\n",
       "</table>\n",
       "<p>5 rows × 40 columns</p>\n",
       "</div>"
      ],
      "text/plain": [
       "   Phone to Name_Match  Phone to Name_NA  Phone to Name_No match  \\\n",
       "0                    0                 0                       1   \n",
       "1                    0                 0                       1   \n",
       "2                    1                 0                       0   \n",
       "3                    0                 0                       1   \n",
       "4                    0                 0                       1   \n",
       "\n",
       "   Phone to Name_No name found  Phone Is Valid_False  Phone Is Valid_True  \\\n",
       "0                            0                     0                    1   \n",
       "1                            0                     0                    1   \n",
       "2                            0                     0                    1   \n",
       "3                            0                     0                    1   \n",
       "4                            0                     0                    1   \n",
       "\n",
       "   Phone Is Valid_NA  Phone Line Type_Fixed VOIP  Phone Line Type_Landline  \\\n",
       "0                  0                           0                         1   \n",
       "1                  0                           0                         1   \n",
       "2                  0                           1                         0   \n",
       "3                  0                           1                         0   \n",
       "4                  0                           1                         0   \n",
       "\n",
       "   Phone Line Type_Mobile        ...         Address Type_PO box throwback  \\\n",
       "0                       0        ...                                     0   \n",
       "1                       0        ...                                     0   \n",
       "2                       0        ...                                     0   \n",
       "3                       0        ...                                     0   \n",
       "4                       0        ...                                     0   \n",
       "\n",
       "   Address Type_Single unit  Address Type_Unknown address type  \\\n",
       "0                         0                                  0   \n",
       "1                         0                                  0   \n",
       "2                         0                                  1   \n",
       "3                         1                                  0   \n",
       "4                         0                                  0   \n",
       "\n",
       "   Address Is Active_False  Address Is Active_True  Address Is Active_NA  \\\n",
       "0                        0                       1                     0   \n",
       "1                        0                       1                     0   \n",
       "2                        0                       0                     1   \n",
       "3                        0                       1                     0   \n",
       "4                        0                       1                     0   \n",
       "\n",
       "   Address Is Commercial_False  Address Is Commercial_True  \\\n",
       "0                            0                           1   \n",
       "1                            0                           1   \n",
       "2                            0                           1   \n",
       "3                            1                           0   \n",
       "4                            0                           1   \n",
       "\n",
       "   Address Is Commercial_NA  Call Disposition  \n",
       "0                         0                 0  \n",
       "1                         0                 0  \n",
       "2                         0                 1  \n",
       "3                         0                 0  \n",
       "4                         0                 0  \n",
       "\n",
       "[5 rows x 40 columns]"
      ]
     },
     "execution_count": 40,
     "metadata": {},
     "output_type": "execute_result"
    }
   ],
   "source": [
    "df_new1.head()"
   ]
  },
  {
   "cell_type": "code",
   "execution_count": 41,
   "metadata": {
    "collapsed": true
   },
   "outputs": [],
   "source": [
    "# Split data into 80% 20% train and test\n",
    "from sklearn.model_selection import train_test_split\n",
    "\n",
    "train, test = train_test_split(df_new1, test_size = 0.2)"
   ]
  },
  {
   "cell_type": "code",
   "execution_count": 42,
   "metadata": {
    "collapsed": true
   },
   "outputs": [],
   "source": [
    "features_new1 = list(df_new1.columns[0:-1])"
   ]
  },
  {
   "cell_type": "code",
   "execution_count": 43,
   "metadata": {
    "collapsed": true
   },
   "outputs": [],
   "source": [
    "y_train = train[\"Call Disposition\"]\n",
    "X_train = train[features_new1]"
   ]
  },
  {
   "cell_type": "code",
   "execution_count": 44,
   "metadata": {
    "collapsed": true
   },
   "outputs": [],
   "source": [
    "y_test = test[\"Call Disposition\"]\n",
    "X_test = test[features_new1]"
   ]
  },
  {
   "cell_type": "code",
   "execution_count": 45,
   "metadata": {
    "collapsed": true
   },
   "outputs": [],
   "source": [
    "from sklearn.linear_model import LogisticRegression\n",
    "clf = LogisticRegression(penalty='l2',verbose=1)"
   ]
  },
  {
   "cell_type": "code",
   "execution_count": 46,
   "metadata": {},
   "outputs": [
    {
     "name": "stdout",
     "output_type": "stream",
     "text": [
      "[LibLinear]"
     ]
    }
   ],
   "source": [
    "clf = clf.fit(X_train,y_train)"
   ]
  },
  {
   "cell_type": "code",
   "execution_count": 47,
   "metadata": {
    "collapsed": true
   },
   "outputs": [],
   "source": [
    "pred = clf.predict(X_test)"
   ]
  },
  {
   "cell_type": "code",
   "execution_count": 48,
   "metadata": {},
   "outputs": [
    {
     "name": "stdout",
     "output_type": "stream",
     "text": [
      "Accuracy of Logistic Classifier 0.7785\n"
     ]
    }
   ],
   "source": [
    "from sklearn.metrics import accuracy_score\n",
    "\n",
    "print 'Accuracy of Logistic Classifier',accuracy_score(y_test, pred)"
   ]
  },
  {
   "cell_type": "code",
   "execution_count": 49,
   "metadata": {},
   "outputs": [
    {
     "data": {
      "text/plain": [
       "<bound method LogisticRegression.decision_function of LogisticRegression(C=1.0, class_weight=None, dual=False, fit_intercept=True,\n",
       "          intercept_scaling=1, max_iter=100, multi_class='ovr', n_jobs=1,\n",
       "          penalty='l2', random_state=None, solver='liblinear', tol=0.0001,\n",
       "          verbose=1, warm_start=False)>"
      ]
     },
     "execution_count": 49,
     "metadata": {},
     "output_type": "execute_result"
    }
   ],
   "source": [
    "clf.decision_function"
   ]
  },
  {
   "cell_type": "code",
   "execution_count": 50,
   "metadata": {},
   "outputs": [
    {
     "data": {
      "image/png": "[encoded data removed]",
      "text/plain": [
       "<matplotlib.figure.Figure at 0x10ca0ea90>"
      ]
     },
     "metadata": {},
     "output_type": "display_data"
    }
   ],
   "source": [
    "from sklearn import metrics\n",
    "fpr, tpr, threshold = metrics.roc_curve(y_test, pred)\n",
    "roc_auc = metrics.auc(fpr, tpr)\n",
    "import matplotlib.pyplot as plt\n",
    "plt.title('Receiver Operating Characteristic')\n",
    "plt.plot(fpr, tpr, 'b', label = 'AUC = %0.2f' % roc_auc)\n",
    "plt.legend(loc = 'lower right')\n",
    "plt.plot([0, 1], [0, 1],'r--')\n",
    "plt.xlim([0, 1])\n",
    "plt.ylim([0, 1])\n",
    "plt.ylabel('True Positive Rate')\n",
    "plt.xlabel('False Positive Rate')\n",
    "plt.show()"
   ]
  },
  {
   "cell_type": "markdown",
   "metadata": {},
   "source": [
    "# Conclusion:"
   ]
  },
  {
   "cell_type": "markdown",
   "metadata": {},
   "source": [
    "1) Based on the input data we can see that the accuracy of the most of the classifiers is around 77% as input data generally contains categorical features.<BR>\n",
    "2) As we can see from feature importance plot following features contributes the most to classification of Call Dispostion and hence will lead to high percentage of score 1 <BR> \n",
    "    &emsp;&emsp;&emsp;&emsp;a) Phone Line Type.<BR>\n",
    "    &emsp;&emsp;&emsp;&emsp;b) Phone To Name.<BR>\n",
    "    &emsp;&emsp;&emsp;&emsp;c) Address Type.<BR>\n",
    "    "
   ]
  },
  {
   "cell_type": "markdown",
   "metadata": {},
   "source": [
    "# Bonus Experiment : Deep Neural Network with Keras and Theano"
   ]
  },
  {
   "cell_type": "markdown",
   "metadata": {},
   "source": [
    "As a part of fun experiment with data, implementation of deep net using keras."
   ]
  },
  {
   "cell_type": "markdown",
   "metadata": {
    "collapsed": true
   },
   "source": [
    "Below code creates a simple fully connected network with one hidden layer that contains 20 neurons.\n",
    "The hidden layer uses a rectifier activation function.  \n",
    "Used a one-hot encoding for dataset, the output layer create 2 output values, one for each class. The output value with the largest value will be taken as the class predicted by the model.\n",
    "\n",
    "The network topology of this simple one-layer neural network can be summarized as:\n",
    "\n",
    "10 inputs -> [20 hidden nodes] -> 2 outputs\n",
    "\n",
    "Used “softmax” activation function in the output layer. This is to ensure the output values are in the range of 0 and 1.\n"
   ]
  },
  {
   "cell_type": "code",
   "execution_count": 51,
   "metadata": {},
   "outputs": [
    {
     "name": "stderr",
     "output_type": "stream",
     "text": [
      "Using Theano backend.\n"
     ]
    }
   ],
   "source": [
    "import pandas\n",
    "import numpy\n",
    "from keras.models import Sequential\n",
    "from keras.layers import Dense\n",
    "from keras.wrappers.scikit_learn import KerasClassifier\n",
    "from keras.utils import np_utils\n",
    "from sklearn.model_selection import cross_val_score\n",
    "from sklearn.model_selection import KFold\n",
    "from sklearn.preprocessing import LabelEncoder\n",
    "from sklearn.pipeline import Pipeline"
   ]
  },
  {
   "cell_type": "code",
   "execution_count": 52,
   "metadata": {
    "collapsed": true
   },
   "outputs": [],
   "source": [
    "input_file = \"Lead_Verifiy_Response.csv\"\n",
    "df_nn = pd.read_csv(input_file, header = 0)"
   ]
  },
  {
   "cell_type": "code",
   "execution_count": 53,
   "metadata": {
    "collapsed": true
   },
   "outputs": [],
   "source": [
    "del df_nn['ORDER']\n",
    "del df_nn['First Name']\n",
    "del df_nn['Last Name']\n",
    "del df_nn['Mailing Street']\n",
    "del df_nn['Mailing City']\n",
    "del df_nn['Mailing Zip']\n",
    "del df_nn['Mailing State']\n",
    "del df_nn['Phone']"
   ]
  },
  {
   "cell_type": "code",
   "execution_count": 54,
   "metadata": {},
   "outputs": [
    {
     "data": {
      "text/plain": [
       "['Phone to Name',\n",
       " 'Phone Is Valid',\n",
       " 'Phone Line Type',\n",
       " 'Phone Is Prepaid',\n",
       " 'Phone Is Commercial',\n",
       " 'Address to Name',\n",
       " 'Address Is Valid',\n",
       " 'Address Type',\n",
       " 'Address Is Active',\n",
       " 'Address Is Commercial']"
      ]
     },
     "execution_count": 54,
     "metadata": {},
     "output_type": "execute_result"
    }
   ],
   "source": [
    "features_nn = list(df_nn.columns[0:-1])\n",
    "features_nn"
   ]
  },
  {
   "cell_type": "code",
   "execution_count": 55,
   "metadata": {
    "collapsed": true
   },
   "outputs": [],
   "source": [
    "df_new_nn = MultiColumnLabelEncoder(columns = features_nn).fit_transform(df_nn)"
   ]
  },
  {
   "cell_type": "code",
   "execution_count": 56,
   "metadata": {
    "collapsed": true
   },
   "outputs": [],
   "source": [
    "df_new_nn.loc[df_new_nn[\"Call Disposition\"] >1,\"Call Disposition\"] = 0"
   ]
  },
  {
   "cell_type": "code",
   "execution_count": 57,
   "metadata": {},
   "outputs": [
    {
     "data": {
      "text/html": [
       "<div>\n",
       "<style>\n",
       "    .dataframe thead tr:only-child th {\n",
       "        text-align: right;\n",
       "    }\n",
       "\n",
       "    .dataframe thead th {\n",
       "        text-align: left;\n",
       "    }\n",
       "\n",
       "    .dataframe tbody tr th {\n",
       "        vertical-align: top;\n",
       "    }\n",
       "</style>\n",
       "<table border=\"1\" class=\"dataframe\">\n",
       "  <thead>\n",
       "    <tr style=\"text-align: right;\">\n",
       "      <th></th>\n",
       "      <th>Phone to Name</th>\n",
       "      <th>Phone Is Valid</th>\n",
       "      <th>Phone Line Type</th>\n",
       "      <th>Phone Is Prepaid</th>\n",
       "      <th>Phone Is Commercial</th>\n",
       "      <th>Address to Name</th>\n",
       "      <th>Address Is Valid</th>\n",
       "      <th>Address Type</th>\n",
       "      <th>Address Is Active</th>\n",
       "      <th>Address Is Commercial</th>\n",
       "      <th>Call Disposition</th>\n",
       "    </tr>\n",
       "  </thead>\n",
       "  <tbody>\n",
       "    <tr>\n",
       "      <th>0</th>\n",
       "      <td>38</td>\n",
       "      <td>1</td>\n",
       "      <td>38</td>\n",
       "      <td>0</td>\n",
       "      <td>112</td>\n",
       "      <td>308</td>\n",
       "      <td>3</td>\n",
       "      <td>308</td>\n",
       "      <td>3</td>\n",
       "      <td>236</td>\n",
       "      <td>0</td>\n",
       "    </tr>\n",
       "    <tr>\n",
       "      <th>1</th>\n",
       "      <td>38</td>\n",
       "      <td>1</td>\n",
       "      <td>38</td>\n",
       "      <td>1634</td>\n",
       "      <td>78</td>\n",
       "      <td>308</td>\n",
       "      <td>18</td>\n",
       "      <td>308</td>\n",
       "      <td>644</td>\n",
       "      <td>804</td>\n",
       "      <td>0</td>\n",
       "    </tr>\n",
       "    <tr>\n",
       "      <th>2</th>\n",
       "      <td>37</td>\n",
       "      <td>1</td>\n",
       "      <td>37</td>\n",
       "      <td>1634</td>\n",
       "      <td>404</td>\n",
       "      <td>308</td>\n",
       "      <td>18</td>\n",
       "      <td>312</td>\n",
       "      <td>645</td>\n",
       "      <td>804</td>\n",
       "      <td>1</td>\n",
       "    </tr>\n",
       "    <tr>\n",
       "      <th>3</th>\n",
       "      <td>38</td>\n",
       "      <td>1</td>\n",
       "      <td>37</td>\n",
       "      <td>1634</td>\n",
       "      <td>404</td>\n",
       "      <td>308</td>\n",
       "      <td>18</td>\n",
       "      <td>311</td>\n",
       "      <td>646</td>\n",
       "      <td>162</td>\n",
       "      <td>0</td>\n",
       "    </tr>\n",
       "    <tr>\n",
       "      <th>4</th>\n",
       "      <td>38</td>\n",
       "      <td>1</td>\n",
       "      <td>37</td>\n",
       "      <td>1634</td>\n",
       "      <td>404</td>\n",
       "      <td>308</td>\n",
       "      <td>18</td>\n",
       "      <td>308</td>\n",
       "      <td>646</td>\n",
       "      <td>804</td>\n",
       "      <td>0</td>\n",
       "    </tr>\n",
       "  </tbody>\n",
       "</table>\n",
       "</div>"
      ],
      "text/plain": [
       "   Phone to Name  Phone Is Valid  Phone Line Type  Phone Is Prepaid  \\\n",
       "0             38               1               38                 0   \n",
       "1             38               1               38              1634   \n",
       "2             37               1               37              1634   \n",
       "3             38               1               37              1634   \n",
       "4             38               1               37              1634   \n",
       "\n",
       "   Phone Is Commercial  Address to Name  Address Is Valid  Address Type  \\\n",
       "0                  112              308                 3           308   \n",
       "1                   78              308                18           308   \n",
       "2                  404              308                18           312   \n",
       "3                  404              308                18           311   \n",
       "4                  404              308                18           308   \n",
       "\n",
       "   Address Is Active  Address Is Commercial  Call Disposition  \n",
       "0                  3                    236                 0  \n",
       "1                644                    804                 0  \n",
       "2                645                    804                 1  \n",
       "3                646                    162                 0  \n",
       "4                646                    804                 0  "
      ]
     },
     "execution_count": 57,
     "metadata": {},
     "output_type": "execute_result"
    }
   ],
   "source": [
    "df_new_nn.head()"
   ]
  },
  {
   "cell_type": "code",
   "execution_count": 58,
   "metadata": {
    "collapsed": true
   },
   "outputs": [],
   "source": [
    "#Initialize Random Number Generator\n",
    "# fix random seed for reproducibility\n",
    "seed = 7\n",
    "numpy.random.seed(seed)"
   ]
  },
  {
   "cell_type": "code",
   "execution_count": 59,
   "metadata": {
    "collapsed": true
   },
   "outputs": [],
   "source": [
    "dataset = df_new_nn.values\n",
    "X = dataset[:,0:10].astype(float)\n",
    "Y = dataset[:,10]"
   ]
  },
  {
   "cell_type": "code",
   "execution_count": 60,
   "metadata": {
    "collapsed": true
   },
   "outputs": [],
   "source": [
    "#encode the o/p\n",
    "encoder = LabelEncoder()\n",
    "encoder.fit(Y)\n",
    "encoded_Y = encoder.transform(Y)\n",
    "# convert integers to dummy variables (i.e. one hot encoded)\n",
    "dummy_y = np_utils.to_categorical(encoded_Y)\n",
    "#print dummy_y"
   ]
  },
  {
   "cell_type": "code",
   "execution_count": 61,
   "metadata": {
    "collapsed": true
   },
   "outputs": [],
   "source": [
    "# define baseline model\n",
    "# 10 input 20 hiddeen and 2 0/p\n",
    "def baseline_model():\n",
    "# create model\n",
    "    model = Sequential()\n",
    "    model.add(Dense(20, input_dim=10, activation='relu'))\n",
    "    model.add(Dense(2, activation='softmax'))\n",
    "    # Compile model\n",
    "    model.compile(loss='categorical_crossentropy', optimizer='adam', metrics=['accuracy'])\n",
    "    return model"
   ]
  },
  {
   "cell_type": "code",
   "execution_count": 62,
   "metadata": {
    "collapsed": true
   },
   "outputs": [],
   "source": [
    "#Create classifier\n",
    "estimator = KerasClassifier(build_fn=baseline_model, batch_size=5, verbose=0)"
   ]
  },
  {
   "cell_type": "code",
   "execution_count": 63,
   "metadata": {
    "collapsed": true
   },
   "outputs": [],
   "source": [
    "#Evaluate The Model with k-Fold Cross Validation\n",
    "kfold = KFold(n_splits=10, shuffle=True, random_state=seed)\n",
    "    "
   ]
  },
  {
   "cell_type": "code",
   "execution_count": 64,
   "metadata": {},
   "outputs": [
    {
     "name": "stdout",
     "output_type": "stream",
     "text": [
      "Baseline: 65.91% (21.75%)\n"
     ]
    }
   ],
   "source": [
    "results = cross_val_score(estimator, X, dummy_y, cv=kfold)\n",
    "print(\"Baseline: %.2f%% (%.2f%%)\" % (results.mean()*100, results.std()*100))"
   ]
  },
  {
   "cell_type": "code",
   "execution_count": null,
   "metadata": {
    "collapsed": true
   },
   "outputs": [],
   "source": []
  }
 ],
 "metadata": {
  "anaconda-cloud": {},
  "kernelspec": {
   "display_name": "Python 2",
   "language": "python",
   "name": "python2"
  },
  "language_info": {
   "codemirror_mode": {
    "name": "ipython",
    "version": 2
   },
   "file_extension": ".py",
   "mimetype": "text/x-python",
   "name": "python",
   "nbconvert_exporter": "python",
   "pygments_lexer": "ipython2",
   "version": "2.7.13"
  }
 },
 "nbformat": 4,
 "nbformat_minor": 1
}
